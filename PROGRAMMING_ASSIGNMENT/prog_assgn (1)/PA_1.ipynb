{
 "cells": [
  {
   "cell_type": "markdown",
   "metadata": {},
   "source": [
    "# Programming assignment 1\n"
   ]
  },
  {
   "cell_type": "markdown",
   "metadata": {},
   "source": [
    "1.\tWrite a Python program to print \"Hello Python\"?\n",
    "2.\tWrite a Python program to do arithmetical operations addition and division.?\n",
    "3.\tWrite a Python program to find the area of a triangle?\n",
    "4.\tWrite a Python program to swap two variables?\n",
    "5.\tWrite a Python program to generate a random number?\n"
   ]
  },
  {
   "cell_type": "markdown",
   "metadata": {},
   "source": [
    "# 1"
   ]
  },
  {
   "cell_type": "code",
   "execution_count": 2,
   "metadata": {},
   "outputs": [],
   "source": [
    "def printHelloPython():\n",
    "    print(\"Hello Python\")\n"
   ]
  },
  {
   "cell_type": "code",
   "execution_count": 3,
   "metadata": {},
   "outputs": [
    {
     "name": "stdout",
     "output_type": "stream",
     "text": [
      "Hello Python\n"
     ]
    }
   ],
   "source": [
    "printHelloPython()"
   ]
  },
  {
   "cell_type": "markdown",
   "metadata": {},
   "source": [
    "# 2"
   ]
  },
  {
   "cell_type": "code",
   "execution_count": 11,
   "metadata": {},
   "outputs": [],
   "source": [
    "def arithmeticOperations():\n",
    "    x1 = int(input(\"Enter the first number: \"));\n",
    "    x2 = int(input(\"Enter the second number: \"));\n",
    "    print(\"The numbers are {} and {}\".format(x1,x2))\n",
    "    print(\"Select the operations to be performed : \")\n",
    "    print(\"1. Addition \\n2. Division\")\n",
    "    choice = int(input())\n",
    "    if (choice==1):\n",
    "        print(\"The sum is {}\".format(x1+x2))\n",
    "    elif (choice==2):\n",
    "        if(x2==0):\n",
    "            print(\"zero division not allowed\")\n",
    "        else:\n",
    "            print(\"The Quotient is {} and the remainder is {}\".format(x1//x2, x2%x2))\n",
    "    else:\n",
    "        print(\"Invalid choice!!\")  \n",
    "            "
   ]
  },
  {
   "cell_type": "code",
   "execution_count": 12,
   "metadata": {},
   "outputs": [
    {
     "name": "stdout",
     "output_type": "stream",
     "text": [
      "The numbers are 12 and 3\n",
      "Select the operations to be performed : \n",
      "1. Addition \n",
      "2. Division\n",
      "The sum is 15\n"
     ]
    }
   ],
   "source": [
    "arithmeticOperations()"
   ]
  },
  {
   "cell_type": "markdown",
   "metadata": {},
   "source": [
    "# 3"
   ]
  },
  {
   "cell_type": "code",
   "execution_count": 15,
   "metadata": {},
   "outputs": [],
   "source": [
    "def areaOfTriangle(b, h):\n",
    "    print(\"The area of the traingele is {}.\".format(0.5*b*h))"
   ]
  },
  {
   "cell_type": "code",
   "execution_count": 16,
   "metadata": {},
   "outputs": [
    {
     "name": "stdout",
     "output_type": "stream",
     "text": [
      "The area of the traingele is 25.0.\n"
     ]
    }
   ],
   "source": [
    "areaOfTriangle(10, 5)"
   ]
  },
  {
   "cell_type": "markdown",
   "metadata": {},
   "source": [
    "# 4"
   ]
  },
  {
   "cell_type": "code",
   "execution_count": 19,
   "metadata": {},
   "outputs": [],
   "source": [
    "def swapVariable(a, b):\n",
    "    print(\"The original values are {} and {}\".format(a,b))\n",
    "    b, a = a, b\n",
    "    print(\"The values after SWAPPING are {}  and {}\".format(a,b))"
   ]
  },
  {
   "cell_type": "code",
   "execution_count": 20,
   "metadata": {},
   "outputs": [
    {
     "name": "stdout",
     "output_type": "stream",
     "text": [
      "The original values are 10 and 25\n",
      "The values after SWAPPING are 25  and 10\n"
     ]
    }
   ],
   "source": [
    "swapVariable(10,25)"
   ]
  },
  {
   "cell_type": "markdown",
   "metadata": {},
   "source": [
    "# 5"
   ]
  },
  {
   "cell_type": "code",
   "execution_count": 25,
   "metadata": {},
   "outputs": [],
   "source": [
    "import random\n",
    "def randomPrint():\n",
    "    print(random.randint(0,1000000))"
   ]
  },
  {
   "cell_type": "code",
   "execution_count": 27,
   "metadata": {},
   "outputs": [
    {
     "name": "stdout",
     "output_type": "stream",
     "text": [
      "64915\n"
     ]
    }
   ],
   "source": [
    "randomPrint()"
   ]
  }
 ],
 "metadata": {
  "interpreter": {
   "hash": "6b12fef19bee58e5165adbb7b3474a09ffbe01283904bde69a9d6c55bca8c42c"
  },
  "kernelspec": {
   "display_name": "Python 3.8.8 64-bit ('base': conda)",
   "language": "python",
   "name": "python3"
  },
  "language_info": {
   "codemirror_mode": {
    "name": "ipython",
    "version": 3
   },
   "file_extension": ".py",
   "mimetype": "text/x-python",
   "name": "python",
   "nbconvert_exporter": "python",
   "pygments_lexer": "ipython3",
   "version": "3.8.8"
  },
  "orig_nbformat": 4
 },
 "nbformat": 4,
 "nbformat_minor": 2
}
