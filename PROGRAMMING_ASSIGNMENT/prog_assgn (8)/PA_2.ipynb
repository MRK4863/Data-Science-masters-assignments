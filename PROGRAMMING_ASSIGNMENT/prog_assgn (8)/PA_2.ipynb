{
 "cells": [
  {
   "cell_type": "markdown",
   "metadata": {},
   "source": [
    "# Programming assignment 2\n"
   ]
  },
  {
   "cell_type": "markdown",
   "metadata": {},
   "source": [
    "1.\tWrite a Python program to convert kilometers to miles?\n",
    "2.\tWrite a Python program to convert Celsius to Fahrenheit?\n",
    "3.\tWrite a Python program to display calendar?\n",
    "4.\tWrite a Python program to solve quadratic equation?\n",
    "5.\tWrite a Python program to swap two variables without temp variable?\n"
   ]
  },
  {
   "cell_type": "markdown",
   "metadata": {},
   "source": [
    "# 1"
   ]
  },
  {
   "cell_type": "code",
   "execution_count": 5,
   "metadata": {},
   "outputs": [],
   "source": [
    "def kmToMiles(km):\n",
    "    return 1.6*km\n"
   ]
  },
  {
   "cell_type": "code",
   "execution_count": 6,
   "metadata": {},
   "outputs": [
    {
     "data": {
      "text/plain": [
       "16.0"
      ]
     },
     "execution_count": 6,
     "metadata": {},
     "output_type": "execute_result"
    }
   ],
   "source": [
    "kmToMiles(10)"
   ]
  },
  {
   "cell_type": "markdown",
   "metadata": {},
   "source": [
    "# 2"
   ]
  },
  {
   "cell_type": "code",
   "execution_count": 7,
   "metadata": {},
   "outputs": [],
   "source": [
    "def CtoF(C):\n",
    "    return C*9/5+32\n",
    "            "
   ]
  },
  {
   "cell_type": "code",
   "execution_count": 8,
   "metadata": {},
   "outputs": [
    {
     "data": {
      "text/plain": [
       "-40.0"
      ]
     },
     "execution_count": 8,
     "metadata": {},
     "output_type": "execute_result"
    }
   ],
   "source": [
    "CtoF(-40)"
   ]
  },
  {
   "cell_type": "markdown",
   "metadata": {},
   "source": [
    "# 3"
   ]
  },
  {
   "cell_type": "code",
   "execution_count": 9,
   "metadata": {},
   "outputs": [],
   "source": [
    "import calendar\n",
    "def Calendar():\n",
    "    y = int(input(\"Enter the year: \"))\n",
    "    m = int(input(\"Enter the month: \"))\n",
    "    return calendar.month(y, m)"
   ]
  },
  {
   "cell_type": "code",
   "execution_count": 10,
   "metadata": {},
   "outputs": [
    {
     "name": "stdout",
     "output_type": "stream",
     "text": [
      "     April 1999\n",
      "Mo Tu We Th Fr Sa Su\n",
      "          1  2  3  4\n",
      " 5  6  7  8  9 10 11\n",
      "12 13 14 15 16 17 18\n",
      "19 20 21 22 23 24 25\n",
      "26 27 28 29 30\n",
      "\n"
     ]
    }
   ],
   "source": [
    "print(Calendar())"
   ]
  },
  {
   "cell_type": "markdown",
   "metadata": {},
   "source": [
    "# 4"
   ]
  },
  {
   "cell_type": "code",
   "execution_count": 11,
   "metadata": {},
   "outputs": [],
   "source": [
    "import math\n",
    "def quadraticSolve():\n",
    "    print(\"The equation of the form ax^2 + b*x + c = 0\")\n",
    "    a = float(input(\"Enter the value of 'a' : \"))\n",
    "    b = float(input(\"Enter the value of 'b' : \"))\n",
    "    c = float(input(\"Enter the value of 'c' : \"))\n",
    "    D = (b**2 - 4*a*c)\n",
    "\n",
    "\n",
    "    return (-b+math.sqrt(D))/(2*a), (-b-math.sqrt(D))/(2*a) "
   ]
  },
  {
   "cell_type": "code",
   "execution_count": 12,
   "metadata": {},
   "outputs": [
    {
     "name": "stdout",
     "output_type": "stream",
     "text": [
      "The equation of the form ax^2 + b*x + c = 0\n"
     ]
    },
    {
     "data": {
      "text/plain": [
       "(-5.0, -5.0)"
      ]
     },
     "execution_count": 12,
     "metadata": {},
     "output_type": "execute_result"
    }
   ],
   "source": [
    "quadraticSolve()"
   ]
  },
  {
   "cell_type": "markdown",
   "metadata": {},
   "source": [
    "# 5"
   ]
  },
  {
   "cell_type": "code",
   "execution_count": 13,
   "metadata": {},
   "outputs": [],
   "source": [
    "def swapVariable(a, b):\n",
    "    print(\"The original values are {} and {}\".format(a,b))\n",
    "    b, a = a, b\n",
    "    print(\"The values after SWAPPING are {}  and {}\".format(a,b))"
   ]
  },
  {
   "cell_type": "code",
   "execution_count": 14,
   "metadata": {},
   "outputs": [
    {
     "name": "stdout",
     "output_type": "stream",
     "text": [
      "The original values are 10 and 25\n",
      "The values after SWAPPING are 25  and 10\n"
     ]
    }
   ],
   "source": [
    "swapVariable(10,25)"
   ]
  }
 ],
 "metadata": {
  "interpreter": {
   "hash": "6b12fef19bee58e5165adbb7b3474a09ffbe01283904bde69a9d6c55bca8c42c"
  },
  "kernelspec": {
   "display_name": "Python 3.8.8 64-bit ('base': conda)",
   "language": "python",
   "name": "python3"
  },
  "language_info": {
   "codemirror_mode": {
    "name": "ipython",
    "version": 3
   },
   "file_extension": ".py",
   "mimetype": "text/x-python",
   "name": "python",
   "nbconvert_exporter": "python",
   "pygments_lexer": "ipython3",
   "version": "3.8.8"
  },
  "orig_nbformat": 4
 },
 "nbformat": 4,
 "nbformat_minor": 2
}
